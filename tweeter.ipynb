{
 "cells": [
  {
   "cell_type": "code",
   "execution_count": 2,
   "id": "immune-cabinet",
   "metadata": {},
   "outputs": [],
   "source": [
    "# Imports \n",
    "from selenium import webdriver\n",
    "import time, requests\n",
    "from keys import username, password\n",
    "from selenium.webdriver.chrome.options import Options\n"
   ]
  },
  {
   "cell_type": "code",
   "execution_count": 3,
   "id": "affiliated-damages",
   "metadata": {},
   "outputs": [],
   "source": [
    "# Opens Chrome\n",
    "driver = webdriver.Chrome('/Users/andrewbith/desktop/chromedriver')"
   ]
  },
  {
   "cell_type": "code",
   "execution_count": 4,
   "id": "fifth-persian",
   "metadata": {},
   "outputs": [],
   "source": [
    "driver.get('https://www.twitter.com')"
   ]
  },
  {
   "cell_type": "code",
   "execution_count": 6,
   "id": "distinguished-translation",
   "metadata": {},
   "outputs": [],
   "source": [
    "driver.find_element_by_xpath('//*[@id=\"react-root\"]/div/div/div/main/div/div/div/div[1]/div/div[3]/a[2]/div').click()"
   ]
  },
  {
   "cell_type": "code",
   "execution_count": 7,
   "id": "british-candidate",
   "metadata": {},
   "outputs": [],
   "source": [
    "# Login\n",
    "driver.find_element_by_xpath('//*[@id=\"react-root\"]/div/div/div[2]/main/div/div/div[2]/form/div/div[1]/label/div/div[2]/div/input').send_keys(username)\n",
    "driver.find_element_by_xpath('//*[@id=\"react-root\"]/div/div/div[2]/main/div/div/div[2]/form/div/div[2]/label/div/div[2]/div/input').send_keys(password)\n",
    "# Click the sign in button\n",
    "driver.find_element_by_xpath('//*[@id=\"react-root\"]/div/div/div[2]/main/div/div/div[2]/form/div/div[3]/div/div').click()"
   ]
  },
  {
   "cell_type": "code",
   "execution_count": 8,
   "id": "biblical-chaos",
   "metadata": {},
   "outputs": [],
   "source": [
    "from quotes import quote_picker\n",
    "def run_script():\n",
    "    driver.find_element_by_xpath('//*[@id=\"react-root\"]/div/div/div[2]/main/div/div/div/div/div/div[2]/div/div[2]/div[1]/div/div/div/div[2]/div[1]/div/div/div/div/div/div/div/div/div/div[1]/div/div/div/div[2]/div/div/div/div').send_keys(quote_picker())\n",
    "    driver.find_element_by_xpath('//*[@id=\"react-root\"]/div/div/div[2]/main/div/div/div/div/div/div[2]/div/div[2]/div[1]/div/div/div/div[2]/div[4]/div/div/div[2]/div[3]/div/span/span').click()\n",
    "\n",
    "count = 0\n",
    "while count < 5:\n",
    "     run_script()\n",
    "     count+=1\n",
    "     time.sleep(5)"
   ]
  },
  {
   "cell_type": "code",
   "execution_count": 38,
   "id": "accepted-silicon",
   "metadata": {},
   "outputs": [],
   "source": []
  }
 ],
 "metadata": {
  "kernelspec": {
   "display_name": "Python 3",
   "language": "python",
   "name": "python3"
  },
  "language_info": {
   "codemirror_mode": {
    "name": "ipython",
    "version": 3
   },
   "file_extension": ".py",
   "mimetype": "text/x-python",
   "name": "python",
   "nbconvert_exporter": "python",
   "pygments_lexer": "ipython3",
   "version": "3.9.2"
  }
 },
 "nbformat": 4,
 "nbformat_minor": 5
}
